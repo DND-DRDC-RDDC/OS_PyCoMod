{
 "cells": [
  {
   "cell_type": "code",
   "execution_count": 1,
   "id": "24c7ebcd",
   "metadata": {},
   "outputs": [],
   "source": [
    "import pycomod as pcm\n",
    "import numpy as np\n"
   ]
  },
  {
   "cell_type": "code",
   "execution_count": 37,
   "id": "48471424",
   "metadata": {},
   "outputs": [],
   "source": [
    "class Dune(pcm.Model):\n",
    "    def build(self):\n",
    "        \n",
    "        # gravitational constant\n",
    "        G = self.parameter(6.6743*1.296*10**2) # changing units to km, hours, exagrams (Eg = 10^18 g)\n",
    "        \n",
    "        # a = Arrakis\n",
    "        # h = Hand of God\n",
    "        # m = Muad'dib\n",
    "        \n",
    "        # Masses\n",
    "        M_a = self.parameter(4.97*10**9) # Eg\n",
    "        M_h = self.parameter(1.27*10**6) # Eg\n",
    "        M_m = self.parameter(1.12*10**5) # Eg\n",
    "        \n",
    "        # Radii\n",
    "        R_a = self.parameter(6128) # km\n",
    "        R_h = self.parameter(450) # km\n",
    "        R_m = self.parameter(200) # km\n",
    "        \n",
    "        \n",
    "        \n",
    "        # Orbital distances\n",
    "        L_ah = self.parameter(103000) # km\n",
    "        L_am = self.parameter(324077) # km\n",
    "        \n",
    "        # Initial positions and velocities\n",
    "        Px_a = self.pool(0, allow_neg=True)\n",
    "        Py_a = self.pool(0, allow_neg=True)\n",
    "        Vx_a = self.pool(0, allow_neg=True)\n",
    "        Vy_a = self.pool(0, allow_neg=True)\n",
    "        \n",
    "        Px_h = self.pool(L_ah, allow_neg=True) # km\n",
    "        Py_h = self.pool(0, allow_neg=True)\n",
    "        Vx_h = self.pool(0, allow_neg=True)\n",
    "        Vy_h = self.pool((G*M_a/L_ah)**0.5, allow_neg=True) # km/hr\n",
    "        \n",
    "        Px_m = self.pool(L_am, allow_neg=True)\n",
    "        Py_m = self.pool(0, allow_neg=True)\n",
    "        Vx_m = self.pool(0, allow_neg=True)\n",
    "        Vy_m = self.pool((G*M_a/L_am)**0.5, allow_neg=True)\n",
    "        \n",
    "        \n",
    "        # equations\n",
    "        # Arrakis - HoG\n",
    "        Dx_ah = self.equation(lambda: Px_h - Px_a) # delta between bodies\n",
    "        Dy_ah = self.equation(lambda: Py_h - Py_a)\n",
    "        \n",
    "        D2_ah = self.equation(lambda: Dx_ah**2 + Dy_ah**2) # distance sq\n",
    "        D_ah = self.equation(lambda: D2_ah**0.5) # distance\n",
    "        \n",
    "        Nx_ah = self.equation(lambda: Dx_ah/D_ah) # normalized delta\n",
    "        Ny_ah = self.equation(lambda: Dy_ah/D_ah)\n",
    "\n",
    "        #Fvx_a = self.flow(lambda: G*M_h/D2_ah*Nx_ah, dest=Vx_a) # velocity update on Arrakis from HoG\n",
    "        #Fvy_a = self.flow(lambda: G*M_h/D2_ah*Ny_ah, dest=Vy_a)\n",
    "        \n",
    "        Fvx_h = self.flow(lambda: -G*M_a/D2_ah*Nx_ah -Vx_h*0.0002, dest=Vx_h) # velocity update on HoG from Arrakis\n",
    "        Fvy_h = self.flow(lambda: -G*M_a/D2_ah*Ny_ah -Vy_h*0.0002, dest=Vy_h)\n",
    "        \n",
    "        #Fpx_a = self.flow(lambda: Vx_a, dest=Px_a) # position update on Arrakis\n",
    "        #Fpy_a = self.flow(lambda: Vy_a, dest=Py_a)\n",
    "        \n",
    "        #Fpx_h = self.flow(lambda: Vx_h, dest=Px_h) # position update on HoG\n",
    "        #Fpy_h = self.flow(lambda: Vy_h, dest=Py_h)  \n",
    "        \n",
    "        Fpx_h = self.flow(lambda: -G*M_a/2/D2_ah*Nx_ah*self.dt + Vx_h, dest=Px_h) # position update on HoG from Arrakis\n",
    "        Fpy_h = self.flow(lambda: -G*M_a/2/D2_ah*Ny_ah*self.dt + Vy_h, dest=Py_h)\n",
    "        \n",
    "\n",
    "        \n",
    "        \n",
    "        # equations\n",
    "        # Arrakis - Muad'dib\n",
    "        Dx_am = self.equation(lambda: Px_m - Px_a) # delta between bodies\n",
    "        Dy_am = self.equation(lambda: Py_m - Py_a)\n",
    "        \n",
    "        D2_am = self.equation(lambda: Dx_am**2 + Dy_am**2) # distance sq\n",
    "        D_am = self.equation(lambda: D2_am**0.5) # distance\n",
    "        \n",
    "        Nx_am = self.equation(lambda: Dx_am/D_am) # normalized delta\n",
    "        Ny_am = self.equation(lambda: Dy_am/D_am)\n",
    "        \n",
    "        Fvx_m = self.flow(lambda: -G*M_a/D2_am*Nx_am -Vx_m*0.00001, dest=Vx_m) # velocity update on HoG from Arrakis\n",
    "        Fvy_m = self.flow(lambda: -G*M_a/D2_am*Ny_am -Vy_m*0.00001, dest=Vy_m)\n",
    "        \n",
    "        #Fpx_m = self.flow(lambda: Vx_m, dest=Px_m) # position update on HoG\n",
    "        #Fpy_m = self.flow(lambda: Vy_m, dest=Py_m)\n",
    "        \n",
    "        Fpx_m = self.flow(lambda: -G*M_a/2/D2_am*Nx_am*self.dt + Vx_m, dest=Px_m) # position update on HoG from Arrakis\n",
    "        Fpy_m = self.flow(lambda: -G*M_a/2/D2_am*Ny_am*self.dt + Vy_m, dest=Py_m)\n",
    "        \n",
    "        \n",
    "        \n",
    "        self.set_available(locals(), output=(Px_a, Py_a, Px_h, Py_h, D_ah, Dx_ah, Dy_ah))\n",
    "d = Dune()"
   ]
  },
  {
   "cell_type": "code",
   "execution_count": 40,
   "id": "e2057609",
   "metadata": {},
   "outputs": [],
   "source": [
    "mgr = pcm.RunManager()\n",
    "mgr.run(d, duration=24*23, dt=0.1, tunit=np.timedelta64(1, 'h'), label='My run')"
   ]
  },
  {
   "cell_type": "code",
   "execution_count": 41,
   "id": "8d7472be",
   "metadata": {},
   "outputs": [
    {
     "data": {
      "image/png": "[encoded data removed]",
      "text/plain": [
       "<Figure size 432x288 with 1 Axes>"
      ]
     },
     "metadata": {
      "needs_background": "light"
     },
     "output_type": "display_data"
    }
   ],
   "source": [
    "import matplotlib.pyplot as plt\n",
    "fig, ax = plt.subplots()\n",
    "\n",
    "ax.plot(d.Px_h.value_hist, d.Py_h.value_hist, color='blue')\n",
    "ax.plot(d.Px_a.value_hist, d.Py_a.value_hist, color='red')\n",
    "ax.plot(d.Px_m.value_hist, d.Py_m.value_hist, color='green')\n",
    "\n",
    "\n",
    "#ax.set(xlabel='time (s)', ylabel='voltage (mV)',\n",
    "#       title='About as simple as it gets, folks')\n",
    "ax.grid()\n",
    "ax.set_aspect('equal', 'box')\n",
    "ax.set_xlim([-400000, 400000])\n",
    "ax.set_ylim([-400000, 400000])\n",
    "\n",
    "\n",
    "plt.show()"
   ]
  },
  {
   "cell_type": "code",
   "execution_count": null,
   "id": "da3cc264",
   "metadata": {},
   "outputs": [],
   "source": [
    "d.Vy_a.value_hist[-1]"
   ]
  },
  {
   "cell_type": "code",
   "execution_count": null,
   "id": "897bba55",
   "metadata": {},
   "outputs": [],
   "source": [
    "plt = pcm.Plotter(title='Arrakis system', fontsize=14)\n",
    "plt.plot(mgr['My run'], 'Px_a', color='blue', label='Px_a')\n",
    "plt.plot(mgr['My run'], 'Py_a', color='cyan', label='Py_a')\n",
    "plt.plot(mgr['My run'], 'Px_h', color='red', label='Px_h')\n",
    "plt.plot(mgr['My run'], 'Py_h', color='pink', label='Py_h')"
   ]
  },
  {
   "cell_type": "code",
   "execution_count": null,
   "id": "43f41b76",
   "metadata": {},
   "outputs": [],
   "source": []
  }
 ],
 "metadata": {
  "kernelspec": {
   "display_name": "Python 3 (ipykernel)",
   "language": "python",
   "name": "python3"
  },
  "language_info": {
   "codemirror_mode": {
    "name": "ipython",
    "version": 3
   },
   "file_extension": ".py",
   "mimetype": "text/x-python",
   "name": "python",
   "nbconvert_exporter": "python",
   "pygments_lexer": "ipython3",
   "version": "3.9.7"
  }
 },
 "nbformat": 4,
 "nbformat_minor": 5
}
