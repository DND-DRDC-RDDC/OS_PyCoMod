{
 "cells": [
  {
   "cell_type": "code",
   "execution_count": 1,
   "id": "24c7ebcd",
   "metadata": {},
   "outputs": [],
   "source": [
    "import pycomod as pcm\n",
    "import numpy as np"
   ]
  },
  {
   "cell_type": "code",
   "execution_count": 2,
   "id": "48471424",
   "metadata": {},
   "outputs": [],
   "source": [
    "class Dune(pcm.Model):\n",
    "    def build(self):\n",
    "        \n",
    "        # gravitational constant\n",
    "        G = self.parameter(6)\n",
    "        \n",
    "        # Arrakis\n",
    "        M_a = self.parameter(100)\n",
    "        R_a = self.parameter(500)\n",
    "        Px_a = self.pool(0)\n",
    "        Py_a = self.pool(0)\n",
    "        Vx_a = self.pool(0)\n",
    "        Vy_a = self.pool(0)\n",
    "        \n",
    "        # Krelln (Hand of God)\n",
    "        M_h = self.parameter(100)\n",
    "        R_h = self.parameter(500)\n",
    "        Px_h = self.pool(0)\n",
    "        Py_h = self.pool(0)\n",
    "        Vx_h = self.pool(0)\n",
    "        Vy_h = self.pool(0)\n",
    "        \n",
    "        # Avron (Muad'Dib)\n",
    "        M_m = self.parameter(100)\n",
    "        R_m = self.parameter(500)\n",
    "        Px_m = self.pool(0)\n",
    "        Py_m = self.pool(0)\n",
    "        Vx_m = self.pool(0)\n",
    "        Vy_m = self.pool(0)\n",
    "        \n",
    "        # equations\n",
    "        # Arrakis - HoG\n",
    "        Dx_ah = self.equation(lambda: Px_a - Px_h) # delta between bodies\n",
    "        Dy_ah = self.equation(lambda: Py_a - Py_h)\n",
    "        \n",
    "        D2_ah = self.equation(lambda: Dx_ah**2 + Dy_ah**2) # distance sq\n",
    "        D_ah = self.equation(lambda: D2_ah**0.5) # distance\n",
    "        \n",
    "        Nx_ah = self.equation(lambda: Dx_ah/D_ah) # normalized delta\n",
    "        Ny_ah = self.equation(lambda: Dy_ah/D_ah)\n",
    "\n",
    "        Fvx_ah = self.flow(lambda: G*M_h/D2_ah*Nx_ah, src=Vx_a) # velocity change (accel) on Arrakis from HoG\n",
    "        Fvy_ah = self.flow(lambda: G*M_h/D2_ah*Ny_ah, src=Vy_a)\n",
    "        \n",
    "        Fvx_ha = self.flow(lambda: G*M_a/D2_ah*Nx_ah, dest=Vx_a) # velocity change (accel) on HoG from Arrakis\n",
    "        Fvy_ha = self.flow(lambda: G*M_a/D2_ah*Ny_ah, dest=Vx_a)\n",
    "        \n",
    "        \n",
    "        \n",
    "\n",
    "        \n",
    "        \n",
    "d = Dune()"
   ]
  },
  {
   "cell_type": "code",
   "execution_count": null,
   "id": "e2057609",
   "metadata": {},
   "outputs": [],
   "source": []
  }
 ],
 "metadata": {
  "kernelspec": {
   "display_name": "Python 3 (ipykernel)",
   "language": "python",
   "name": "python3"
  },
  "language_info": {
   "codemirror_mode": {
    "name": "ipython",
    "version": 3
   },
   "file_extension": ".py",
   "mimetype": "text/x-python",
   "name": "python",
   "nbconvert_exporter": "python",
   "pygments_lexer": "ipython3",
   "version": "3.9.7"
  }
 },
 "nbformat": 4,
 "nbformat_minor": 5
}
